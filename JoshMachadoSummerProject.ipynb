{
 "cells": [
  {
   "cell_type": "markdown",
   "metadata": {},
   "source": [
    "# Josh Machado Summer Project"
   ]
  },
  {
   "cell_type": "markdown",
   "metadata": {},
   "source": [
    "The overall goal of the summer REU is:\n",
    "\n",
    " 1. Produce reduced images of NH$_3$  for the W51-Main/IRS2 regions\n",
    " 2. Produce temperature maps from the NH$_3$ maps\n",
    " 3. Use the temperature maps, in combination with existing ALMA data, to create column density (i.e., mass) maps\n",
    " 4. Analyze the mass distribution, the core masses, and the core mass function"
   ]
  },
  {
   "cell_type": "markdown",
   "metadata": {},
   "source": [
    "## 1. Produce NH$_3$ images\n",
    "\n",
    "The EVLA data have already been downloaded and mostly processed, see https://drive.google.com/drive/folders/1eMZ166xjNQWdTuAgarRuDUfqezlD59o_?usp=sharing. The next step is to assess data quality.\n",
    "\n",
    "1. What is the dynamic range?  Did we reach the thermal noise limit?\n",
    "2. What artifacts persists in the data?  Can we remove them, and if not, we should describe them."
   ]
  },
  {
   "cell_type": "markdown",
   "metadata": {},
   "source": [
    "## 2. Produce temperature maps\n",
    "\n",
    "The NH$_3$ lines are sensitive probes of gas temperature, which is why we observed them.  We want to turn these maps of NH$_3$ intensity into maps of gas temperature.\n",
    "\n",
    "We will do this by fitting models of the ammonia lines to the spectral data cubes we have.  This process is very commonly done in the literature, so there's some background reading you can do:\n",
    "\n",
    "* The Green Bank Ammonia survey: http://adsabs.harvard.edu/abs/2017ApJ...843...63F\n",
    "* Erik Rosolowsky's paper that's one of the most common references: http://adsabs.harvard.edu/abs/2008ApJS..175..509R\n",
    "* Cara's papers on NH3 fitting: http://adsabs.harvard.edu/abs/2014ApJ...786..116B, http://adsabs.harvard.edu/abs/2014ApJ...787..113B\n",
    "\n",
    "This is the fitting tool we'll use: https://pyspeckit.readthedocs.io/en/latest/ammonia_model.html\n",
    "\n",
    "There are several examples to explore here: https://pyspeckit.readthedocs.io/en/latest/examples.html?highlight=NH3\n",
    "\n",
    "Look at Appendix B of this paper:\n",
    "https://github.com/pyspeckit/paper1\n",
    "to learn a little more about what the fitter itself is doing"
   ]
  },
  {
   "cell_type": "markdown",
   "metadata": {},
   "source": [
    "To get started, you should extract a single spectrum from the NH$_3$ 1-1 and 2-2 data cubes and use the [pyspeckit ammonia fitter wrapper](https://pyspeckit.readthedocs.io/en/latest/wrappers.html#nh3-fitter-wrapper) to fit their profile and plot the fit.  If the documentation isn't good enough to get you going, ask both me and Brian how to move forward."
   ]
  },
  {
   "cell_type": "markdown",
   "metadata": {},
   "source": [
    "## 3. Make mass maps\n",
    "\n",
    "We have ALMA 1 mm and 3 mm maps in hand, which in principle are dominated by dust emission.  We want to turn these into column density maps.\n",
    "\n",
    "Here's where the caveats start rolling in.  These images are actually dominated by free-free emission!  Free-free isn't dust and it's harder to use to infer gas mass than dust is.  \n",
    "\n",
    "What we probably want to do is:\n",
    "\n",
    "1. Produce the continuum images from the VLA K-band data.  We'll use these as a template for the free-free emission, and we'll subtract this map from the ALMA maps.\n",
    "2. Use the ALMA minus VLA maps as \"dust maps\", and use the NH3 temperatures as the dust temperature to get the dust masses/column densities given some assumptions.  We can use the tools in this package: https://github.com/keflavich/dust_emissivity to make these measurements"
   ]
  },
  {
   "cell_type": "markdown",
   "metadata": {},
   "source": [
    "## 4. More analysis\n",
    "\n",
    "We'll get here later, but some ideas are:\n",
    "\n",
    " * catalog the column density images to produce a core catalog, compare to my 2017 paper, see how wrong I got it\n",
    " * do many-pc-scale analysis: what would an extragalactic observer see of W51?  What would they infer?  How wrong would they be?\n",
    " * Is there anything interesting to say about the column density distribution function?"
   ]
  },
  {
   "cell_type": "code",
   "execution_count": null,
   "metadata": {},
   "outputs": [],
   "source": []
  }
 ],
 "metadata": {
  "kernelspec": {
   "display_name": "Python 3",
   "language": "python",
   "name": "python3"
  },
  "language_info": {
   "codemirror_mode": {
    "name": "ipython",
    "version": 3
   },
   "file_extension": ".py",
   "mimetype": "text/x-python",
   "name": "python",
   "nbconvert_exporter": "python",
   "pygments_lexer": "ipython3",
   "version": "3.6.4"
  }
 },
 "nbformat": 4,
 "nbformat_minor": 2
}
